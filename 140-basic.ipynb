{
 "cells": [
  {
   "cell_type": "markdown",
   "id": "fc7fa9e6",
   "metadata": {},
   "source": [
    "### 1. Write a Python program to print \"Hello Python\"."
   ]
  },
  {
   "cell_type": "code",
   "execution_count": 26,
   "id": "48cdcf69",
   "metadata": {},
   "outputs": [
    {
     "name": "stdout",
     "output_type": "stream",
     "text": [
      "Hello Python\n"
     ]
    }
   ],
   "source": [
    "print(\"Hello Python\")"
   ]
  },
  {
   "cell_type": "markdown",
   "id": "fb13c255",
   "metadata": {},
   "source": [
    "### 2. Write a Python program to do arithmetical operations addition and division."
   ]
  },
  {
   "cell_type": "code",
   "execution_count": 27,
   "id": "e30549d2",
   "metadata": {},
   "outputs": [
    {
     "name": "stdout",
     "output_type": "stream",
     "text": [
      "sum: 12.0 + 1.0 = 13.0\n"
     ]
    }
   ],
   "source": [
    "# Addition\n",
    "num1 = float(input(\"Enter the first number for addition: \"))\n",
    "num2 = float(input(\"Enter the  second number for addition: \"))\n",
    "\n",
    "sum = num1 + num2\n",
    "print(f\"sum: {num1} + {num2} = {sum}\")"
   ]
  },
  {
   "cell_type": "code",
   "execution_count": 28,
   "id": "147e8088",
   "metadata": {},
   "outputs": [
    {
     "name": "stdout",
     "output_type": "stream",
     "text": [
      "Error: Division by zero is not allowed.\n"
     ]
    }
   ],
   "source": [
    "# Division\n",
    "num3 = float(input(\"Enter the first number for division: \"))\n",
    "num4 = float(input(\"Enter the second number for division: \"))\n",
    "if num4 == 0:\n",
    "\tprint(\"Error: Division by zero is not allowed.\")\n",
    "else:\n",
    "\tdivision = num3 / num4\n",
    "\tprint(f\"division: {num3} / {num4} = {division}\")"
   ]
  },
  {
   "cell_type": "markdown",
   "id": "c056d034",
   "metadata": {},
   "source": [
    "### 3. Write a Python program to find the area of a triangle"
   ]
  },
  {
   "cell_type": "code",
   "execution_count": 29,
   "id": "c7782af3",
   "metadata": {},
   "outputs": [
    {
     "name": "stdout",
     "output_type": "stream",
     "text": [
      "The area of the triangle with base 32.0 and height 32.0 is: 512.0\n"
     ]
    }
   ],
   "source": [
    "# input the base and hight of the triangle\n",
    "base = float(input(\"Enter the base of the triangle: \"))\n",
    "height = float(input(\"Enter the height of the triangle: \"))\n",
    "\n",
    "# calculate the area of the triangle\n",
    "area = 0.5 * base * height\n",
    "print(f\"The area of the triangle with base {base} and height {height} is: {area}\")"
   ]
  },
  {
   "cell_type": "markdown",
   "id": "424774b1",
   "metadata": {},
   "source": [
    "### 4. Write a Python program to swap two variables"
   ]
  },
  {
   "cell_type": "code",
   "execution_count": 30,
   "id": "f149c603",
   "metadata": {},
   "outputs": [
    {
     "name": "stdout",
     "output_type": "stream",
     "text": [
      "Original numbers: 12.0, 45.0\n",
      "Swapped numbers: 45.0, 12.0\n"
     ]
    }
   ],
   "source": [
    "# input two numbers\n",
    "num1 = float(input(\"Enter the first number: \"))\n",
    "num2 = float(input(\"Enter the second number: \"))\n",
    "\n",
    "# display the original numbers\n",
    "print(f\"Original numbers: {num1}, {num2}\")\n",
    "\n",
    "# swap the numbers\n",
    "temp = num1\n",
    "num1 = num2\n",
    "num2 = temp\n",
    "\n",
    "# display the swapped numbers\n",
    "print(f\"Swapped numbers: {num1}, {num2}\")"
   ]
  },
  {
   "cell_type": "markdown",
   "id": "2de88a92",
   "metadata": {},
   "source": [
    "### 5. Write a Python program to generate a random number"
   ]
  },
  {
   "cell_type": "code",
   "execution_count": 31,
   "id": "dcb48d52",
   "metadata": {},
   "outputs": [
    {
     "name": "stdout",
     "output_type": "stream",
     "text": [
      "Random number between 1 and 100: 60\n"
     ]
    }
   ],
   "source": [
    "import random\n",
    "print(\"Random number between 1 and 100:\", random.randint(1, 100))"
   ]
  },
  {
   "cell_type": "markdown",
   "id": "caea41d9",
   "metadata": {},
   "source": [
    "### 6. Write a Python program to convert kilometers to miles"
   ]
  },
  {
   "cell_type": "markdown",
   "id": "8af3e940",
   "metadata": {},
   "source": [
    "### 7. Write a Python program to convert Celsius to Fahrenheit."
   ]
  },
  {
   "cell_type": "markdown",
   "id": "4def3d6c",
   "metadata": {},
   "source": [
    "### 8. Write a Python program to display calendar."
   ]
  },
  {
   "cell_type": "markdown",
   "id": "513e22e8",
   "metadata": {},
   "source": [
    "### 9. Write a Python program to solve quadratic equation.\n",
    "\n",
    "##### The standard form of a quadratic equation is: 𝑎$𝑥^2$ + 𝑏𝑥 + 𝑐 = 0\n",
    "##### where a, b and c are real numbers and $a \\ne 0$\n",
    "##### The solutions of this quadratic equation is given by: $\\frac{-b \\pm \\sqrt{b^2 - 4ac}}{2a}$"
   ]
  }
 ],
 "metadata": {
  "kernelspec": {
   "display_name": "study-python",
   "language": "python",
   "name": "python3"
  },
  "language_info": {
   "codemirror_mode": {
    "name": "ipython",
    "version": 3
   },
   "file_extension": ".py",
   "mimetype": "text/x-python",
   "name": "python",
   "nbconvert_exporter": "python",
   "pygments_lexer": "ipython3",
   "version": "3.12.9"
  }
 },
 "nbformat": 4,
 "nbformat_minor": 5
}
