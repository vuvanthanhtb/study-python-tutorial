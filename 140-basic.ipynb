{
 "cells": [
  {
   "cell_type": "markdown",
   "id": "fc7fa9e6",
   "metadata": {},
   "source": [
    "### 1. Write a Python program to print \"Hello Python\"."
   ]
  },
  {
   "cell_type": "code",
   "execution_count": 26,
   "id": "48cdcf69",
   "metadata": {},
   "outputs": [
    {
     "name": "stdout",
     "output_type": "stream",
     "text": [
      "Hello Python\n"
     ]
    }
   ],
   "source": [
    "print(\"Hello Python\")"
   ]
  },
  {
   "cell_type": "markdown",
   "id": "fb13c255",
   "metadata": {},
   "source": [
    "### 2. Write a Python program to do arithmetical operations addition and division."
   ]
  },
  {
   "cell_type": "code",
   "execution_count": 27,
   "id": "e30549d2",
   "metadata": {},
   "outputs": [
    {
     "name": "stdout",
     "output_type": "stream",
     "text": [
      "sum: 12.0 + 1.0 = 13.0\n"
     ]
    }
   ],
   "source": [
    "# Addition\n",
    "num1 = float(input(\"Enter the first number for addition: \"))\n",
    "num2 = float(input(\"Enter the  second number for addition: \"))\n",
    "\n",
    "sum = num1 + num2\n",
    "print(f\"sum: {num1} + {num2} = {sum}\")"
   ]
  },
  {
   "cell_type": "code",
   "execution_count": null,
   "id": "147e8088",
   "metadata": {},
   "outputs": [
    {
     "name": "stdout",
     "output_type": "stream",
     "text": [
      "Error: Division by zero is not allowed.\n"
     ]
    }
   ],
   "source": [
    "# Division\n",
    "num3 = float(input(\"Enter the first number for division: \"))\n",
    "num4 = float(input(\"Enter the second number for division: \"))\n",
    "if num4 == 0:\n",
    "  print(\"Error: Division by zero is not allowed.\")\n",
    "else:\n",
    "  division = num3 / num4\n",
    "  print(f\"division: {num3} / {num4} = {division}\")"
   ]
  },
  {
   "cell_type": "markdown",
   "id": "c056d034",
   "metadata": {},
   "source": [
    "### 3. Write a Python program to find the area of a triangle"
   ]
  },
  {
   "cell_type": "code",
   "execution_count": null,
   "id": "c7782af3",
   "metadata": {},
   "outputs": [
    {
     "name": "stdout",
     "output_type": "stream",
     "text": [
      "The area of the triangle with base 32.0 and height 32.0 is: 512.0\n"
     ]
    }
   ],
   "source": [
    "# input the base and hight of the triangle\n",
    "base = float(input(\"Enter the base of the triangle: \"))\n",
    "height = float(input(\"Enter the height of the triangle: \"))\n",
    "\n",
    "# calculate the area of the triangle\n",
    "area = 0.5 * base * height\n",
    "print(\n",
    "    f\"The area of the triangle with base {base} and height {height} is: {area}\")"
   ]
  },
  {
   "cell_type": "markdown",
   "id": "424774b1",
   "metadata": {},
   "source": [
    "### 4. Write a Python program to swap two variables"
   ]
  },
  {
   "cell_type": "code",
   "execution_count": 30,
   "id": "f149c603",
   "metadata": {},
   "outputs": [
    {
     "name": "stdout",
     "output_type": "stream",
     "text": [
      "Original numbers: 12.0, 45.0\n",
      "Swapped numbers: 45.0, 12.0\n"
     ]
    }
   ],
   "source": [
    "# input two numbers\n",
    "num1 = float(input(\"Enter the first number: \"))\n",
    "num2 = float(input(\"Enter the second number: \"))\n",
    "\n",
    "# display the original numbers\n",
    "print(f\"Original numbers: {num1}, {num2}\")\n",
    "\n",
    "# swap the numbers\n",
    "temp = num1\n",
    "num1 = num2\n",
    "num2 = temp\n",
    "\n",
    "# display the swapped numbers\n",
    "print(f\"Swapped numbers: {num1}, {num2}\")"
   ]
  },
  {
   "cell_type": "markdown",
   "id": "2de88a92",
   "metadata": {},
   "source": [
    "### 5. Write a Python program to generate a random number"
   ]
  },
  {
   "cell_type": "code",
   "execution_count": 31,
   "id": "dcb48d52",
   "metadata": {},
   "outputs": [
    {
     "name": "stdout",
     "output_type": "stream",
     "text": [
      "Random number between 1 and 100: 60\n"
     ]
    }
   ],
   "source": [
    "import random\n",
    "print(\"Random number between 1 and 100:\", random.randint(1, 100))"
   ]
  },
  {
   "cell_type": "markdown",
   "id": "caea41d9",
   "metadata": {},
   "source": [
    "### 6. Write a Python program to convert kilometers to miles"
   ]
  },
  {
   "cell_type": "code",
   "execution_count": 32,
   "id": "a38492db",
   "metadata": {},
   "outputs": [
    {
     "name": "stdout",
     "output_type": "stream",
     "text": [
      "12.0 kilometers is equal to 7.4564520000000005 miles.\n"
     ]
    }
   ],
   "source": [
    "kilometers = float(input(\"Enter distance in kilometers: \"))\n",
    "\n",
    "# conversion factor 1km = 0.621371 miles\n",
    "conversion_factor = 0.621371\n",
    "\n",
    "# convert kilometers to miles\n",
    "miles = kilometers * conversion_factor\n",
    "print(f\"{kilometers} kilometers is equal to {miles} miles.\")"
   ]
  },
  {
   "cell_type": "markdown",
   "id": "8af3e940",
   "metadata": {},
   "source": [
    "### 7. Write a Python program to convert Celsius to Fahrenheit."
   ]
  },
  {
   "cell_type": "code",
   "execution_count": 33,
   "id": "3e50e703",
   "metadata": {},
   "outputs": [
    {
     "name": "stdout",
     "output_type": "stream",
     "text": [
      "30.0 Celsius is equal to 86.0 Fahrenheit.\n"
     ]
    }
   ],
   "source": [
    "celsius = float(input(\"Enter temperature in Celsius: \"))\n",
    "\n",
    "# conversion formula C to F\n",
    "fahrenheit = (celsius * 9/5) + 32\n",
    "\n",
    "print(f\"{celsius} Celsius is equal to {fahrenheit} Fahrenheit.\")"
   ]
  },
  {
   "cell_type": "markdown",
   "id": "4def3d6c",
   "metadata": {},
   "source": [
    "### 8. Write a Python program to display calendar."
   ]
  },
  {
   "cell_type": "code",
   "execution_count": 34,
   "id": "cf3e5e72",
   "metadata": {},
   "outputs": [
    {
     "name": "stdout",
     "output_type": "stream",
     "text": [
      "      May 2025\n",
      "Mo Tu We Th Fr Sa Su\n",
      "          1  2  3  4\n",
      " 5  6  7  8  9 10 11\n",
      "12 13 14 15 16 17 18\n",
      "19 20 21 22 23 24 25\n",
      "26 27 28 29 30 31\n",
      "\n"
     ]
    }
   ],
   "source": [
    "import calendar\n",
    "\n",
    "year = int(input(\"Enter year: \"))\n",
    "month = int(input(\"Enter month: \"))\n",
    "\n",
    "# display the calendar\n",
    "cal = calendar.month(year, month)\n",
    "print(cal)"
   ]
  },
  {
   "cell_type": "markdown",
   "id": "513e22e8",
   "metadata": {},
   "source": [
    "### 9. Write a Python program to solve quadratic equation.\n",
    "\n",
    "##### The standard form of a quadratic equation is: 𝑎$𝑥^2$ + 𝑏𝑥 + 𝑐 = 0\n",
    "##### where a, b and c are real numbers and $a \\ne 0$\n",
    "##### The solutions of this quadratic equation is given by: $\\frac{-b \\pm \\sqrt{b^2 - 4ac}}{2a}$"
   ]
  },
  {
   "cell_type": "code",
   "execution_count": null,
   "id": "398ff87b",
   "metadata": {},
   "outputs": [
    {
     "name": "stdout",
     "output_type": "stream",
     "text": [
      "The quadratic equation is: 1.0x^2 + 3.0x + 2.0 = 0\n",
      "The roots are real and different: -1.0 and -2.0\n"
     ]
    }
   ],
   "source": [
    "import math\n",
    "\n",
    "# input the coefficients of the quadratic equation\n",
    "a = float(input(\"Enter the coefficient 'a': \"))\n",
    "b = float(input(\"Enter the coefficient 'b': \"))\n",
    "c = float(input(\"Enter the coefficient 'c': \"))\n",
    "\n",
    "print(f\"The quadratic equation is: {a}x^2 + {b}x + {c} = 0\")\n",
    "\n",
    "# calculate the discriminant\n",
    "discriminant = b**2 - 4*a*c\n",
    "if discriminant > 0:\n",
    "  root1 = (-b + math.sqrt(discriminant)) / (2*a)\n",
    "  root2 = (-b - math.sqrt(discriminant)) / (2*a)\n",
    "  print(f\"The roots are real and different: {root1} and {root2}\")\n",
    "elif discriminant == 0:\n",
    "  root = -b / (2*a)\n",
    "  print(f\"The root is real and equal: {root}\")\n",
    "else:\n",
    "  real_part = -b / (2*a)\n",
    "  imaginary_part = math.sqrt(-discriminant) / (2*a)\n",
    "  print(\n",
    "      f\"The roots are complex and different: {real_part} + {imaginary_part}i and {real_part} - {imaginary_part}i\")"
   ]
  }
 ],
 "metadata": {
  "kernelspec": {
   "display_name": "study-python",
   "language": "python",
   "name": "python3"
  },
  "language_info": {
   "codemirror_mode": {
    "name": "ipython",
    "version": 3
   },
   "file_extension": ".py",
   "mimetype": "text/x-python",
   "name": "python",
   "nbconvert_exporter": "python",
   "pygments_lexer": "ipython3",
   "version": "3.12.9"
  }
 },
 "nbformat": 4,
 "nbformat_minor": 5
}
